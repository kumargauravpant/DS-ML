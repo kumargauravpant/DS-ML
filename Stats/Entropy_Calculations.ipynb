{
 "cells": [
  {
   "cell_type": "code",
   "execution_count": 1,
   "metadata": {},
   "outputs": [],
   "source": [
    "import numpy as np"
   ]
  },
  {
   "cell_type": "code",
   "execution_count": 5,
   "metadata": {},
   "outputs": [
    {
     "data": {
      "text/plain": [
       "0.9402859586706311"
      ]
     },
     "execution_count": 5,
     "metadata": {},
     "output_type": "execute_result"
    }
   ],
   "source": [
    "# Entropy(S) [9+, 5-]\n",
    "entropy_play = -((9/14) * np.log2(9/14)) - ((5/14)*np.log2(5/14))\n",
    "entropy_play"
   ]
  },
  {
   "cell_type": "code",
   "execution_count": null,
   "metadata": {},
   "outputs": [],
   "source": [
    "#        outlook\n",
    "#   /       |       \\\n",
    "# Sunny   Overcast  Rain\n",
    "# [2+,3-] [4+,0-]  [3+,2-]"
   ]
  },
  {
   "cell_type": "code",
   "execution_count": 6,
   "metadata": {},
   "outputs": [
    {
     "data": {
      "text/plain": [
       "0.24674981977443933"
      ]
     },
     "execution_count": 6,
     "metadata": {},
     "output_type": "execute_result"
    }
   ],
   "source": [
    "entropy_sunny = -((2/5) * np.log2(2/5)) - ((3/5)*np.log2(3/5))\n",
    "entropy_overcast = -(1 * np.log2(1))\n",
    "entropy_rain = - ((3/5)*np.log2(3/5)) -((2/5) * np.log2(2/5))\n",
    "gain_outlook = entropy_play - ((5/14)*entropy_sunny) - ((4/14)*entropy_overcast) - ((5/14)*entropy_rain)\n",
    "gain_outlook"
   ]
  },
  {
   "cell_type": "code",
   "execution_count": null,
   "metadata": {},
   "outputs": [],
   "source": [
    "#           Temp\n",
    "#     /     /   \\       \\\n",
    "# hot     Mild    cool    Cold\n",
    "# [2+,2-] [4+,6-] [2+,1-] [1+,0-]"
   ]
  },
  {
   "cell_type": "code",
   "execution_count": 7,
   "metadata": {},
   "outputs": [
    {
     "data": {
      "text/plain": [
       "-0.2357421446658084"
      ]
     },
     "execution_count": 7,
     "metadata": {},
     "output_type": "execute_result"
    }
   ],
   "source": [
    "entropy_hot = -((2/4) * np.log2(2/4)) - ((2/4)*np.log2(2/4))\n",
    "entropy_mild = -((4/10) * np.log2(4/10)) - ((6/10)*np.log2(6/10))\n",
    "entropy_cool = -((2/3) * np.log2(2/3)) - ((1/3)*np.log2(1/3))\n",
    "entropy_cold = -(1 * np.log2(1))\n",
    "gain_temp = entropy_play - ((4/14)*entropy_hot) - ((10/14)*entropy_mild) - ((3/14)*entropy_cool) - ((1/14)*entropy_cold)\n",
    "gain_temp"
   ]
  },
  {
   "cell_type": "code",
   "execution_count": null,
   "metadata": {},
   "outputs": [],
   "source": []
  },
  {
   "cell_type": "code",
   "execution_count": null,
   "metadata": {},
   "outputs": [],
   "source": []
  }
 ],
 "metadata": {
  "kernelspec": {
   "display_name": "Python 3",
   "language": "python",
   "name": "python3"
  },
  "language_info": {
   "codemirror_mode": {
    "name": "ipython",
    "version": 3
   },
   "file_extension": ".py",
   "mimetype": "text/x-python",
   "name": "python",
   "nbconvert_exporter": "python",
   "pygments_lexer": "ipython3",
   "version": "3.6.4"
  }
 },
 "nbformat": 4,
 "nbformat_minor": 2
}
