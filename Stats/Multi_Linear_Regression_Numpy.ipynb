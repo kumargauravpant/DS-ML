{
 "cells": [
  {
   "cell_type": "code",
   "execution_count": 2,
   "metadata": {},
   "outputs": [],
   "source": [
    "import numpy as np\n",
    "import matplotlib.pyplot as plt"
   ]
  },
  {
   "cell_type": "code",
   "execution_count": 3,
   "metadata": {},
   "outputs": [],
   "source": [
    "# Creating the data set\n",
    "np.random.seed(70)\n",
    "data_x = np.linspace(-10,10,200).reshape(100,2)\n",
    "data_y = 15 * data_x[:,0][:,np.newaxis] + 3 * data_x[:,1][:,np.newaxis] + 20 * np.random.rand(100,1) # adding the bias\n",
    "data_x /= data_x.max() # Scaling the data between -1 to 1"
   ]
  },
  {
   "cell_type": "code",
   "execution_count": 4,
   "metadata": {},
   "outputs": [],
   "source": [
    "# The hypothesis\n",
    "# h(w) = w0 + w1.x1 + w2.x2\n",
    "\n",
    "data_x = np.hstack((np.ones(100).reshape(100,1),data_x)) # Creating 1 as x0 for matrix multiplication"
   ]
  },
  {
   "cell_type": "code",
   "execution_count": 5,
   "metadata": {},
   "outputs": [],
   "source": [
    "# Cost Function\n",
    "def get_gradient(w, x, y):\n",
    "    y_estimate = (x.dot(w)).flatten()\n",
    "    error = (y.flatten() - y_estimate)\n",
    "    mse = (1.0/len(x)) * np.sum(np.power(error, 2)) # mse\n",
    "    gradient = -(1.0/len(x)) * error.dot(x) # gradient step\n",
    "    return gradient, mse"
   ]
  },
  {
   "cell_type": "code",
   "execution_count": 6,
   "metadata": {},
   "outputs": [
    {
     "name": "stdout",
     "output_type": "stream",
     "text": [
      "(80, 3) (80, 1) (20, 3) (20, 1)\n"
     ]
    }
   ],
   "source": [
    "# Train Test Split\n",
    "order = np.random.permutation(len(data_x))\n",
    "portion = 20\n",
    "test_x = data_x[order[:portion]]\n",
    "test_y = data_y[order[:portion]]\n",
    "train_x = data_x[order[portion:]]\n",
    "train_y = data_y[order[portion:]]\n",
    "print(train_x.shape, train_y.shape, test_x.shape, test_y.shape)"
   ]
  },
  {
   "cell_type": "code",
   "execution_count": 30,
   "metadata": {},
   "outputs": [
    {
     "name": "stdout",
     "output_type": "stream",
     "text": [
      "Initial values of weights:\n",
      "-0.7507658832238449 1.0298008290723244 0.26384133339702104\n",
      "Iteration: 10 Error: 445.22950185395314\n",
      "Updated weights: 71.526685, 72.222137, 6.264688\n",
      "Iteration: 20 Error: 49.54110781468749\n",
      "Updated weights: 86.084083, 86.752834, 8.921434\n",
      "Iteration: 30 Error: 38.7185056645332\n",
      "Updated weights: 88.484701, 89.148270, 9.437019\n",
      "Iteration: 40 Error: 38.422170691518865\n",
      "Updated weights: 88.881505, 89.544175, 9.526488\n",
      "Iteration: 50 Error: 38.41405574486968\n",
      "Updated weights: 88.947144, 89.609664, 9.541520\n",
      "The model is converged\n",
      "Final Weights: 88.957581 89.620076 9.543922\n",
      "Test Cost =  36.55650633550151\n"
     ]
    }
   ],
   "source": [
    "# Training the model\n",
    "w = np.random.randn(3) # Weights\n",
    "alpha = 0.25 # Learning Rate\n",
    "tolerance = 1e-3 \n",
    "print('Initial values of weights:')\n",
    "print(w[0], w[1], w[2])\n",
    "\n",
    "# Performing the gradient descent\n",
    "iteration = 1\n",
    "\n",
    "while True:\n",
    "    gradient, error = get_gradient(w, train_x, train_y)\n",
    "    new_w = w - alpha * gradient # Gradient Descent Step\n",
    "    \n",
    "    # Stopping Condition\n",
    "    if np.sum(abs(new_w - w)) < tolerance:\n",
    "        print('The model is converged')\n",
    "        break\n",
    "    \n",
    "    # Printing error every 10th iteration\n",
    "    if iteration % 10 == 0:\n",
    "        print(f'Iteration: {iteration} Error: {error}')\n",
    "        #print(f'Iteration: {iteration} gradient: {gradient}')\n",
    "        print('Updated weights: {:f}, {:f}, {:f}'.format(w[2], w[1], w[0]))\n",
    "        \n",
    "    iteration += 1\n",
    "    w = new_w\n",
    "    \n",
    "print('Final Weights: {:f} {:f} {:f}'.format(w[2], w[1], w[0]))\n",
    "print('Test Cost = ', get_gradient(w, test_x, test_y)[1])"
   ]
  },
  {
   "cell_type": "code",
   "execution_count": null,
   "metadata": {},
   "outputs": [],
   "source": [
    "test_x"
   ]
  },
  {
   "cell_type": "code",
   "execution_count": 8,
   "metadata": {},
   "outputs": [
    {
     "name": "stdout",
     "output_type": "stream",
     "text": [
      "Final Equation/ Hypothesis look like:\n",
      "y = 88.774349.x2 + 89.803299.x1 + 9.545762\n"
     ]
    }
   ],
   "source": [
    "print('Final Equation/ Hypothesis look like:')\n",
    "print('y = {:f}.x2 + {:f}.x1 + {:f}'.format(w[2], w[1], w[0]))"
   ]
  },
  {
   "cell_type": "code",
   "execution_count": 24,
   "metadata": {},
   "outputs": [
    {
     "data": {
      "text/plain": [
       "[<matplotlib.lines.Line2D at 0x2158df58860>]"
      ]
     },
     "execution_count": 24,
     "metadata": {},
     "output_type": "execute_result"
    },
    {
     "data": {
      "image/png": "[encoded data removed]",
      "text/plain": [
       "<Figure size 432x288 with 1 Axes>"
      ]
     },
     "metadata": {},
     "output_type": "display_data"
    }
   ],
   "source": [
    "# Plotting the results\n",
    "plt.plot(data_x[:,1], data_x.dot(w), c='r')\n",
    "plt.plot(data_x[:,1], data_y, c='g')"
   ]
  },
  {
   "cell_type": "code",
   "execution_count": 25,
   "metadata": {},
   "outputs": [
    {
     "data": {
      "text/plain": [
       "array([-135.83417704,   29.28284421,  -28.14916318,   -6.61216041,\n",
       "        115.4308553 , -139.4236775 ,  122.60985622,   86.7148516 ,\n",
       "         47.23034652,  172.86286269,  104.66235391, -153.78167935,\n",
       "        140.55735853,  101.07285345,  151.32585992,  -35.3281641 ,\n",
       "        111.84135483,  136.96785807,   14.92484236,  -81.99167011])"
      ]
     },
     "execution_count": 25,
     "metadata": {},
     "output_type": "execute_result"
    }
   ],
   "source": [
    "test_x.dot(w)"
   ]
  },
  {
   "cell_type": "code",
   "execution_count": 26,
   "metadata": {},
   "outputs": [
    {
     "data": {
      "text/plain": [
       "array([[-138.08440445],\n",
       "       [  22.15494892],\n",
       "       [ -31.27196766],\n",
       "       [ -12.61272378],\n",
       "       [ 115.18093375],\n",
       "       [-140.8833529 ],\n",
       "       [ 133.16492363],\n",
       "       [  96.25481048],\n",
       "       [  48.08074413],\n",
       "       [ 174.02671035],\n",
       "       [ 102.94108189],\n",
       "       [-158.88947923],\n",
       "       [ 132.85656082],\n",
       "       [ 107.29308478],\n",
       "       [ 146.33231728],\n",
       "       [ -45.17996514],\n",
       "       [ 102.98273279],\n",
       "       [ 133.73922359],\n",
       "       [  10.82116936],\n",
       "       [ -90.23977621]])"
      ]
     },
     "execution_count": 26,
     "metadata": {},
     "output_type": "execute_result"
    }
   ],
   "source": [
    "test_y"
   ]
  },
  {
   "cell_type": "code",
   "execution_count": 32,
   "metadata": {},
   "outputs": [],
   "source": [
    "from sklearn import metrics"
   ]
  },
  {
   "cell_type": "code",
   "execution_count": 33,
   "metadata": {},
   "outputs": [
    {
     "data": {
      "text/plain": [
       "0.9965756007587019"
      ]
     },
     "execution_count": 33,
     "metadata": {},
     "output_type": "execute_result"
    }
   ],
   "source": [
    "metrics.r2_score(test_y,test_x.dot(w))"
   ]
  },
  {
   "cell_type": "code",
   "execution_count": 34,
   "metadata": {},
   "outputs": [
    {
     "data": {
      "text/plain": [
       "36.55650633550151"
      ]
     },
     "execution_count": 34,
     "metadata": {},
     "output_type": "execute_result"
    }
   ],
   "source": [
    "metrics.mean_squared_error(test_y,test_x.dot(w))"
   ]
  }
 ],
 "metadata": {
  "kernelspec": {
   "display_name": "Python 3",
   "language": "python",
   "name": "python3"
  },
  "language_info": {
   "codemirror_mode": {
    "name": "ipython",
    "version": 3
   },
   "file_extension": ".py",
   "mimetype": "text/x-python",
   "name": "python",
   "nbconvert_exporter": "python",
   "pygments_lexer": "ipython3",
   "version": "3.6.4"
  }
 },
 "nbformat": 4,
 "nbformat_minor": 2
}
